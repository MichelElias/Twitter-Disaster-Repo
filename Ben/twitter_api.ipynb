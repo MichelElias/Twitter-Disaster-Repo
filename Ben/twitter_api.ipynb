{
 "cells": [
  {
   "cell_type": "code",
   "execution_count": 1,
   "metadata": {},
   "outputs": [
    {
     "name": "stderr",
     "output_type": "stream",
     "text": [
      "/Applications/anaconda3/lib/python3.6/site-packages/psycopg2/__init__.py:144: UserWarning: The psycopg2 wheel package will be renamed from release 2.8; in order to keep installing from binary please use \"pip install psycopg2-binary\" instead. For details see: <http://initd.org/psycopg/docs/install.html#binary-install-from-pypi>.\n",
      "  \"\"\")\n"
     ]
    }
   ],
   "source": [
    "import numpy as np\n",
    "import pandas as pd\n",
    "import json\n",
    "import time\n",
    "import twitter\n",
    "import psycopg2 as pg2\n",
    "from psycopg2.extras import RealDictCursor, Json\n",
    "from datetime import datetime"
   ]
  },
  {
   "cell_type": "code",
   "execution_count": 2,
   "metadata": {},
   "outputs": [],
   "source": [
    "%run sql_pw.py"
   ]
  },
  {
   "cell_type": "code",
   "execution_count": 3,
   "metadata": {},
   "outputs": [],
   "source": [
    "def con_cur_to_db(dbname=DBNAME, dict_cur=None):\n",
    "    ''' \n",
    "    Returns both a connection and a cursor object for your database\n",
    "    '''\n",
    "\n",
    "    con = pg2.connect(host=IP_ADDRESS, #allows you to navigate db\n",
    "                  dbname=dbname,\n",
    "                  user=USER,\n",
    "                  password=PASSWORD)\n",
    "    if dict_cur:\n",
    "        cur = con.cursor(cursor_factory=RealDictCursor)\n",
    "    else:\n",
    "        cur = con.cursor()\n",
    "    return con, cur\n",
    "    \n",
    "def execute_query(query, dbname=DBNAME, dict_cur=None, command=False):\n",
    "    '''\n",
    "    Executes a query directly to a database, without having to create a cursor and connection each time. \n",
    "    '''\n",
    "    con, cur = con_cur_to_db(dbname, dict_cur)\n",
    "    cur.execute(f'{query}')\n",
    "    if not command:\n",
    "        data = cur.fetchall()\n",
    "        con.close()\n",
    "        return data\n",
    "    con.commit() #sends to server\n",
    "    con.close() #closes server connection\n",
    "\n",
    "def insert_entry_json(data, tablename=None):\n",
    "    con, cur = con_cur_to_db()\n",
    "    for x in data:\n",
    "        cur.execute(f'INSERT INTO {tablename} (data) VALUES ({Json(x)});')\n",
    "    con.commit()\n",
    "    con.close()"
   ]
  },
  {
   "cell_type": "code",
   "execution_count": 4,
   "metadata": {},
   "outputs": [],
   "source": [
    "twitter_keys = {\n",
    "    'consumer_key':        'OoTmt8ytXol9yRJxLvBbYER5e',\n",
    "    'consumer_secret':     'wHEGZ4juW2AIUU1GFp32oA8vGtre8Se5hSPp5DfOmeNJ2a3Ld7',\n",
    "    'access_token_key':    '1080874755215872001-9F7ZdDBK2b9hgBKjSTiTQXIWY2XdyM',\n",
    "    'access_token_secret': 'HIMPWRosWf2Wlu73wEPWjsmjobO3FvtRaa3MneDW0wT3q'\n",
    "}\n",
    "\n",
    "api = twitter.Api(\n",
    "    consumer_key         =   twitter_keys['consumer_key'],\n",
    "    consumer_secret      =   twitter_keys['consumer_secret'],\n",
    "    access_token_key     =   twitter_keys['access_token_key'],\n",
    "    access_token_secret  =   twitter_keys['access_token_secret'],\n",
    ")"
   ]
  },
  {
   "cell_type": "code",
   "execution_count": 5,
   "metadata": {},
   "outputs": [],
   "source": [
    "def streamTweets(city, geocode, term, before, count, sql_db):\n",
    "    for i in range(1,8):\n",
    "        year, month, day = before.split('-')\n",
    "        day = int(day)\n",
    "        day-=1\n",
    "        day = str(day).zfill(2)\n",
    "        date = year + month + day\n",
    "        after = datetime.strptime(date, '%Y%m%d').strftime('%Y-%m-%d')\n",
    "        \n",
    "        results = api.GetSearch(\n",
    "            term = term,\n",
    "            geocode = geocode,\n",
    "            return_json = True\n",
    "        )\n",
    "\n",
    "        insert_entry_json(results['statuses'], sql_db)\n",
    "        before = after"
   ]
  },
  {
   "cell_type": "code",
   "execution_count": 6,
   "metadata": {},
   "outputs": [],
   "source": [
    "def tweet_repeater(city, geocode, term, start, repeats=15, count=100, sql_db='raw_tweets'):\n",
    "    for i in range(repeats):\n",
    "        before = start\n",
    "        \n",
    "        streamTweets(city, geocode, term, before, count, sql_db)\n",
    "        print(f'Loop {i+1} complete. Raw tweets pushed to {sql_db}.')\n",
    "        time.sleep(40)\n",
    "        \n",
    "    print('All tweets pulled.')"
   ]
  },
  {
   "cell_type": "code",
   "execution_count": 7,
   "metadata": {},
   "outputs": [
    {
     "name": "stdout",
     "output_type": "stream",
     "text": [
      "Loop 1 complete. Raw tweets pushed to raw_tweets.\n",
      "Loop 2 complete. Raw tweets pushed to raw_tweets.\n",
      "Loop 3 complete. Raw tweets pushed to raw_tweets.\n",
      "Loop 4 complete. Raw tweets pushed to raw_tweets.\n",
      "Loop 5 complete. Raw tweets pushed to raw_tweets.\n",
      "Loop 6 complete. Raw tweets pushed to raw_tweets.\n",
      "Loop 7 complete. Raw tweets pushed to raw_tweets.\n",
      "Loop 8 complete. Raw tweets pushed to raw_tweets.\n",
      "Loop 9 complete. Raw tweets pushed to raw_tweets.\n",
      "Loop 10 complete. Raw tweets pushed to raw_tweets.\n",
      "Loop 11 complete. Raw tweets pushed to raw_tweets.\n",
      "Loop 12 complete. Raw tweets pushed to raw_tweets.\n",
      "Loop 13 complete. Raw tweets pushed to raw_tweets.\n",
      "Loop 14 complete. Raw tweets pushed to raw_tweets.\n",
      "Loop 15 complete. Raw tweets pushed to raw_tweets.\n",
      "Loop 16 complete. Raw tweets pushed to raw_tweets.\n",
      "Loop 17 complete. Raw tweets pushed to raw_tweets.\n",
      "Loop 18 complete. Raw tweets pushed to raw_tweets.\n",
      "Loop 19 complete. Raw tweets pushed to raw_tweets.\n",
      "Loop 20 complete. Raw tweets pushed to raw_tweets.\n",
      "Loop 21 complete. Raw tweets pushed to raw_tweets.\n",
      "Loop 22 complete. Raw tweets pushed to raw_tweets.\n",
      "Loop 23 complete. Raw tweets pushed to raw_tweets.\n",
      "Loop 24 complete. Raw tweets pushed to raw_tweets.\n",
      "Loop 25 complete. Raw tweets pushed to raw_tweets.\n",
      "Loop 26 complete. Raw tweets pushed to raw_tweets.\n",
      "Loop 27 complete. Raw tweets pushed to raw_tweets.\n",
      "Loop 28 complete. Raw tweets pushed to raw_tweets.\n",
      "Loop 29 complete. Raw tweets pushed to raw_tweets.\n",
      "Loop 30 complete. Raw tweets pushed to raw_tweets.\n",
      "Loop 31 complete. Raw tweets pushed to raw_tweets.\n",
      "Loop 32 complete. Raw tweets pushed to raw_tweets.\n",
      "Loop 33 complete. Raw tweets pushed to raw_tweets.\n",
      "Loop 34 complete. Raw tweets pushed to raw_tweets.\n",
      "Loop 35 complete. Raw tweets pushed to raw_tweets.\n",
      "Loop 36 complete. Raw tweets pushed to raw_tweets.\n",
      "Loop 37 complete. Raw tweets pushed to raw_tweets.\n",
      "Loop 38 complete. Raw tweets pushed to raw_tweets.\n",
      "Loop 39 complete. Raw tweets pushed to raw_tweets.\n",
      "Loop 40 complete. Raw tweets pushed to raw_tweets.\n",
      "Loop 41 complete. Raw tweets pushed to raw_tweets.\n",
      "Loop 42 complete. Raw tweets pushed to raw_tweets.\n",
      "Loop 43 complete. Raw tweets pushed to raw_tweets.\n",
      "Loop 44 complete. Raw tweets pushed to raw_tweets.\n",
      "Loop 45 complete. Raw tweets pushed to raw_tweets.\n",
      "Loop 46 complete. Raw tweets pushed to raw_tweets.\n",
      "Loop 47 complete. Raw tweets pushed to raw_tweets.\n",
      "Loop 48 complete. Raw tweets pushed to raw_tweets.\n",
      "Loop 49 complete. Raw tweets pushed to raw_tweets.\n",
      "Loop 50 complete. Raw tweets pushed to raw_tweets.\n",
      "Loop 51 complete. Raw tweets pushed to raw_tweets.\n",
      "Loop 52 complete. Raw tweets pushed to raw_tweets.\n",
      "Loop 53 complete. Raw tweets pushed to raw_tweets.\n",
      "Loop 54 complete. Raw tweets pushed to raw_tweets.\n",
      "Loop 55 complete. Raw tweets pushed to raw_tweets.\n",
      "Loop 56 complete. Raw tweets pushed to raw_tweets.\n",
      "Loop 57 complete. Raw tweets pushed to raw_tweets.\n",
      "Loop 58 complete. Raw tweets pushed to raw_tweets.\n",
      "Loop 59 complete. Raw tweets pushed to raw_tweets.\n",
      "Loop 60 complete. Raw tweets pushed to raw_tweets.\n",
      "Loop 61 complete. Raw tweets pushed to raw_tweets.\n",
      "Loop 62 complete. Raw tweets pushed to raw_tweets.\n",
      "Loop 63 complete. Raw tweets pushed to raw_tweets.\n",
      "Loop 64 complete. Raw tweets pushed to raw_tweets.\n",
      "Loop 65 complete. Raw tweets pushed to raw_tweets.\n",
      "Loop 66 complete. Raw tweets pushed to raw_tweets.\n",
      "Loop 67 complete. Raw tweets pushed to raw_tweets.\n",
      "Loop 68 complete. Raw tweets pushed to raw_tweets.\n",
      "Loop 69 complete. Raw tweets pushed to raw_tweets.\n",
      "Loop 70 complete. Raw tweets pushed to raw_tweets.\n",
      "Loop 71 complete. Raw tweets pushed to raw_tweets.\n",
      "Loop 72 complete. Raw tweets pushed to raw_tweets.\n",
      "Loop 73 complete. Raw tweets pushed to raw_tweets.\n",
      "Loop 74 complete. Raw tweets pushed to raw_tweets.\n",
      "Loop 75 complete. Raw tweets pushed to raw_tweets.\n",
      "Loop 76 complete. Raw tweets pushed to raw_tweets.\n",
      "Loop 77 complete. Raw tweets pushed to raw_tweets.\n",
      "Loop 78 complete. Raw tweets pushed to raw_tweets.\n",
      "Loop 79 complete. Raw tweets pushed to raw_tweets.\n",
      "Loop 80 complete. Raw tweets pushed to raw_tweets.\n",
      "Loop 81 complete. Raw tweets pushed to raw_tweets.\n",
      "Loop 82 complete. Raw tweets pushed to raw_tweets.\n",
      "Loop 83 complete. Raw tweets pushed to raw_tweets.\n",
      "Loop 84 complete. Raw tweets pushed to raw_tweets.\n",
      "Loop 85 complete. Raw tweets pushed to raw_tweets.\n",
      "Loop 86 complete. Raw tweets pushed to raw_tweets.\n",
      "Loop 87 complete. Raw tweets pushed to raw_tweets.\n",
      "Loop 88 complete. Raw tweets pushed to raw_tweets.\n",
      "Loop 89 complete. Raw tweets pushed to raw_tweets.\n",
      "Loop 90 complete. Raw tweets pushed to raw_tweets.\n",
      "Loop 91 complete. Raw tweets pushed to raw_tweets.\n",
      "Loop 92 complete. Raw tweets pushed to raw_tweets.\n",
      "Loop 93 complete. Raw tweets pushed to raw_tweets.\n",
      "Loop 94 complete. Raw tweets pushed to raw_tweets.\n",
      "Loop 95 complete. Raw tweets pushed to raw_tweets.\n",
      "Loop 96 complete. Raw tweets pushed to raw_tweets.\n",
      "Loop 97 complete. Raw tweets pushed to raw_tweets.\n",
      "Loop 98 complete. Raw tweets pushed to raw_tweets.\n",
      "Loop 99 complete. Raw tweets pushed to raw_tweets.\n",
      "Loop 100 complete. Raw tweets pushed to raw_tweets.\n",
      "All tweets pulled.\n"
     ]
    }
   ],
   "source": [
    "tweet_repeater(city='cha', \n",
    "               geocode='35.2271,-80.8431,10mi', \n",
    "               term='justin timberlake tour',\n",
    "               start='2019-01-08', \n",
    "               repeats=100, \n",
    "               count=100, \n",
    "               sql_db='raw_tweets')"
   ]
  },
  {
   "cell_type": "code",
   "execution_count": 8,
   "metadata": {},
   "outputs": [],
   "source": [
    "searchterms = [\n",
    "    'jt', 'justin timberlake', 'jtimberlake', 'justin', 'timberlake', 'concert', 'show', 'mirror', 'cry me a river',\n",
    "    'man of the woods', 'tour', 'music', 'PNC', 'welcome back', 'TN kids', 'tennessee kids'\n",
    "]"
   ]
  },
  {
   "cell_type": "code",
   "execution_count": 9,
   "metadata": {},
   "outputs": [],
   "source": [
    "# cities_dict = {'cha': {'geocode':'35.2271,-80.8431,2mi', 'start_date':'2019-01-08'}, \n",
    "#                'atl': {'geocode':'33.753746,-84.386330,2mi', 'start_date':'2019-01-10'},\n",
    "#                'mem': {'geocode':'35.14953,-90.04898,2mi', 'start_date':'2019-01-12'},\n",
    "#                'no': {'geocode':'29.951065,-90.071533,2mi', 'start_date':'2019-01-15'},\n",
    "#                'nlr': {'geocode':'34.746483,-92.289597,2mi', 'start_date':'2019-01-17'}}"
   ]
  },
  {
   "cell_type": "code",
   "execution_count": 10,
   "metadata": {},
   "outputs": [],
   "source": [
    "# def streamTweets(city, count):\n",
    "#     i=0\n",
    "#     while i < 100:\n",
    "#         results = api.GetSearch(\n",
    "#             geocode = cities_dict[city]['geocode'],\n",
    "#             since = cities_dict[city]['start_date'],\n",
    "#             return_json = True\n",
    "#             )\n",
    "#         i+=1\n",
    "#         time.sleep(1)"
   ]
  },
  {
   "cell_type": "code",
   "execution_count": 11,
   "metadata": {},
   "outputs": [],
   "source": [
    "# streamTweets(city='cha', count=100)"
   ]
  },
  {
   "cell_type": "code",
   "execution_count": null,
   "metadata": {},
   "outputs": [],
   "source": []
  }
 ],
 "metadata": {
  "kernelspec": {
   "display_name": "Python 3",
   "language": "python",
   "name": "python3"
  },
  "language_info": {
   "codemirror_mode": {
    "name": "ipython",
    "version": 3
   },
   "file_extension": ".py",
   "mimetype": "text/x-python",
   "name": "python",
   "nbconvert_exporter": "python",
   "pygments_lexer": "ipython3",
   "version": "3.7.0"
  }
 },
 "nbformat": 4,
 "nbformat_minor": 2
}
