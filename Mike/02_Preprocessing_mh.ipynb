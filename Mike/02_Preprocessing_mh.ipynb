{
 "cells": [
  {
   "cell_type": "markdown",
   "metadata": {},
   "source": [
    "# Preprocessing and Modeling"
   ]
  },
  {
   "cell_type": "code",
   "execution_count": 330,
   "metadata": {},
   "outputs": [
    {
     "name": "stderr",
     "output_type": "stream",
     "text": [
      "[nltk_data] Downloading package wordnet to\n",
      "[nltk_data]     /Users/mintaekhong/nltk_data...\n",
      "[nltk_data]   Package wordnet is already up-to-date!\n"
     ]
    },
    {
     "data": {
      "text/plain": [
       "True"
      ]
     },
     "execution_count": 330,
     "metadata": {},
     "output_type": "execute_result"
    }
   ],
   "source": [
    "import pandas as pd\n",
    "import numpy as np\n",
    "from sklearn.feature_extraction.text import CountVectorizer, TfidfVectorizer\n",
    "from sklearn.model_selection import train_test_split, GridSearchCV\n",
    "from sklearn.feature_extraction.stop_words import ENGLISH_STOP_WORDS\n",
    "from nltk.tokenize import RegexpTokenizer\n",
    "from nltk.stem import WordNetLemmatizer\n",
    "import nltk\n",
    "import re\n",
    "from sklearn.decomposition import TruncatedSVD\n",
    "from sklearn.metrics.pairwise import cosine_similarity\n",
    "import matplotlib.pyplot as plt\n",
    "import pickle\n",
    "\n",
    "%matplotlib inline\n",
    "nltk.download('wordnet')"
   ]
  },
  {
   "cell_type": "markdown",
   "metadata": {},
   "source": [
    "## Import Labeled Data"
   ]
  },
  {
   "cell_type": "code",
   "execution_count": 229,
   "metadata": {},
   "outputs": [],
   "source": [
    "sandy_hurricane = pd.read_csv('./CrisisLexT6/2012_Sandy_Hurricane/2012_Sandy_Hurricane-ontopic_offtopic.csv')\n",
    "alberta_floods = pd.read_csv('./CrisisLexT6/2013_Alberta_Floods/2013_Alberta_Floods-ontopic_offtopic.csv')\n",
    "boston_bombing = pd.read_csv('./CrisisLexT6/2013_Boston_Bombings/2013_Boston_Bombings-ontopic_offtopic.csv')\n",
    "oklahoma_tornado = pd.read_csv('./CrisisLexT6/2013_Oklahoma_Tornado/2013_Oklahoma_Tornado-ontopic_offtopic.csv')\n",
    "queensland_flood = pd.read_csv('./CrisisLexT6/2013_Queensland_Floods/2013_Queensland_Floods-ontopic_offtopic.csv')\n",
    "texas_explosion = pd.read_csv('./CrisisLexT6/2013_West_Texas_Explosion/2013_West_Texas_Explosion-ontopic_offtopic.csv')\n"
   ]
  },
  {
   "cell_type": "code",
   "execution_count": 230,
   "metadata": {},
   "outputs": [],
   "source": [
    "# sandy_hurricane = pd.read_csv('./2012_Sandy_Hurricane-ontopic_offtopic.csv')\n",
    "# alberta_floods = pd.read_csv('./2013_Alberta_Floods-ontopic_offtopic.csv')\n",
    "# boston_bombing = pd.read_csv('./2013_Boston_Bombings-ontopic_offtopic.csv')\n",
    "# oklahoma_tornado = pd.read_csv('./2013_Oklahoma_Tornado-ontopic_offtopic.csv')\n",
    "# queensland_flood = pd.read_csv('./2013_Queensland_Floods-ontopic_offtopic.csv')\n",
    "# texas_explosion = pd.read_csv('./2013_West_Texas_Explosion-ontopic_offtopic.csv')"
   ]
  },
  {
   "cell_type": "code",
   "execution_count": 231,
   "metadata": {},
   "outputs": [],
   "source": [
    "tokenizer = RegexpTokenizer(r'\\w+')"
   ]
  },
  {
   "cell_type": "code",
   "execution_count": 232,
   "metadata": {},
   "outputs": [],
   "source": [
    "lemmatizer = WordNetLemmatizer()"
   ]
  },
  {
   "cell_type": "code",
   "execution_count": 233,
   "metadata": {},
   "outputs": [],
   "source": [
    "tfidf = TfidfVectorizer(ngram_range=(1,2), \n",
    "                        stop_words = 'english', \n",
    "                        min_df = 25, \n",
    "                        max_df = 1.0)"
   ]
  },
  {
   "cell_type": "markdown",
   "metadata": {},
   "source": [
    "### Sandy Hurricane"
   ]
  },
  {
   "cell_type": "code",
   "execution_count": 234,
   "metadata": {},
   "outputs": [
    {
     "data": {
      "text/html": [
       "<div>\n",
       "<style scoped>\n",
       "    .dataframe tbody tr th:only-of-type {\n",
       "        vertical-align: middle;\n",
       "    }\n",
       "\n",
       "    .dataframe tbody tr th {\n",
       "        vertical-align: top;\n",
       "    }\n",
       "\n",
       "    .dataframe thead th {\n",
       "        text-align: right;\n",
       "    }\n",
       "</style>\n",
       "<table border=\"1\" class=\"dataframe\">\n",
       "  <thead>\n",
       "    <tr style=\"text-align: right;\">\n",
       "      <th></th>\n",
       "      <th>tweet id</th>\n",
       "      <th>tweet</th>\n",
       "      <th>label</th>\n",
       "    </tr>\n",
       "  </thead>\n",
       "  <tbody>\n",
       "    <tr>\n",
       "      <th>0</th>\n",
       "      <td>'262596552399396864'</td>\n",
       "      <td>I've got enough candles to supply a Mexican fa...</td>\n",
       "      <td>off-topic</td>\n",
       "    </tr>\n",
       "    <tr>\n",
       "      <th>1</th>\n",
       "      <td>'263044104500420609'</td>\n",
       "      <td>Sandy be soooo mad that she be shattering our ...</td>\n",
       "      <td>on-topic</td>\n",
       "    </tr>\n",
       "    <tr>\n",
       "      <th>2</th>\n",
       "      <td>'263309629973491712'</td>\n",
       "      <td>@ibexgirl thankfully Hurricane Waugh played it...</td>\n",
       "      <td>off-topic</td>\n",
       "    </tr>\n",
       "    <tr>\n",
       "      <th>3</th>\n",
       "      <td>'263422851133079552'</td>\n",
       "      <td>@taos you never got that magnificent case of B...</td>\n",
       "      <td>off-topic</td>\n",
       "    </tr>\n",
       "    <tr>\n",
       "      <th>4</th>\n",
       "      <td>'262404311223504896'</td>\n",
       "      <td>I'm at Mad River Bar &amp;amp; Grille (New York, N...</td>\n",
       "      <td>off-topic</td>\n",
       "    </tr>\n",
       "  </tbody>\n",
       "</table>\n",
       "</div>"
      ],
      "text/plain": [
       "               tweet id                                              tweet  \\\n",
       "0  '262596552399396864'  I've got enough candles to supply a Mexican fa...   \n",
       "1  '263044104500420609'  Sandy be soooo mad that she be shattering our ...   \n",
       "2  '263309629973491712'  @ibexgirl thankfully Hurricane Waugh played it...   \n",
       "3  '263422851133079552'  @taos you never got that magnificent case of B...   \n",
       "4  '262404311223504896'  I'm at Mad River Bar &amp; Grille (New York, N...   \n",
       "\n",
       "       label  \n",
       "0  off-topic  \n",
       "1   on-topic  \n",
       "2  off-topic  \n",
       "3  off-topic  \n",
       "4  off-topic  "
      ]
     },
     "execution_count": 234,
     "metadata": {},
     "output_type": "execute_result"
    }
   ],
   "source": [
    "sandy_hurricane.head()"
   ]
  },
  {
   "cell_type": "markdown",
   "metadata": {},
   "source": [
    "#### Rename Columns"
   ]
  },
  {
   "cell_type": "code",
   "execution_count": 235,
   "metadata": {},
   "outputs": [],
   "source": [
    "sandy_hurricane.rename(columns = {'tweet id': 'id',\n",
    "                                  ' tweet': 'text',\n",
    "                                  ' label': 'label'},\n",
    "                       inplace=True)"
   ]
  },
  {
   "cell_type": "markdown",
   "metadata": {},
   "source": [
    "#### One-Hot Encoding"
   ]
  },
  {
   "cell_type": "markdown",
   "metadata": {},
   "source": [
    "One-hot encode column `on-topic` and save as `sandy_hurricane_df`: \n",
    "-  1 = on-topic, tweet is related to a disaster\n",
    "-  0 = off-topic, tweet is *not* related to a disaster"
   ]
  },
  {
   "cell_type": "code",
   "execution_count": 236,
   "metadata": {},
   "outputs": [],
   "source": [
    "sandy_hurricane_df = pd.get_dummies(data=sandy_hurricane, \n",
    "                                    columns=['label'], \n",
    "                                    drop_first=True)"
   ]
  },
  {
   "cell_type": "markdown",
   "metadata": {},
   "source": [
    "### Add `type` Column"
   ]
  },
  {
   "cell_type": "markdown",
   "metadata": {},
   "source": [
    "Add a column to indicate the type of disaster it is. This will be necessary when combining all dataframes later on."
   ]
  },
  {
   "cell_type": "code",
   "execution_count": 237,
   "metadata": {},
   "outputs": [],
   "source": [
    "sandy_hurricane_df['type'] = 'hurricane'"
   ]
  },
  {
   "cell_type": "markdown",
   "metadata": {},
   "source": [
    "### Repeat for all other labeled datasets:"
   ]
  },
  {
   "cell_type": "markdown",
   "metadata": {},
   "source": [
    "### Alberta Floods"
   ]
  },
  {
   "cell_type": "code",
   "execution_count": 238,
   "metadata": {},
   "outputs": [],
   "source": [
    "alberta_floods.rename(columns = {'tweet id': 'id',\n",
    "                                 ' tweet': 'text',\n",
    "                                 ' label': 'label'},\n",
    "                      inplace=True)"
   ]
  },
  {
   "cell_type": "code",
   "execution_count": 239,
   "metadata": {},
   "outputs": [],
   "source": [
    "alberta_floods_df = pd.get_dummies(data=alberta_floods, \n",
    "                                   columns=['label'], \n",
    "                                   drop_first=True)"
   ]
  },
  {
   "cell_type": "code",
   "execution_count": 240,
   "metadata": {},
   "outputs": [],
   "source": [
    "alberta_floods_df['type'] = 'flood'"
   ]
  },
  {
   "cell_type": "markdown",
   "metadata": {},
   "source": [
    "TFIDF Alberta Floods for LogReg:"
   ]
  },
  {
   "cell_type": "code",
   "execution_count": 241,
   "metadata": {},
   "outputs": [
    {
     "data": {
      "text/html": [
       "<div>\n",
       "<style scoped>\n",
       "    .dataframe tbody tr th:only-of-type {\n",
       "        vertical-align: middle;\n",
       "    }\n",
       "\n",
       "    .dataframe tbody tr th {\n",
       "        vertical-align: top;\n",
       "    }\n",
       "\n",
       "    .dataframe thead th {\n",
       "        text-align: right;\n",
       "    }\n",
       "</style>\n",
       "<table border=\"1\" class=\"dataframe\">\n",
       "  <thead>\n",
       "    <tr style=\"text-align: right;\">\n",
       "      <th></th>\n",
       "      <th>id</th>\n",
       "      <th>text</th>\n",
       "      <th>label_on-topic</th>\n",
       "      <th>type</th>\n",
       "    </tr>\n",
       "  </thead>\n",
       "  <tbody>\n",
       "    <tr>\n",
       "      <th>0</th>\n",
       "      <td>'348351442404376578'</td>\n",
       "      <td>@Jay1972Jay Nope. Mid 80's. It's off Metallica...</td>\n",
       "      <td>0</td>\n",
       "      <td>flood</td>\n",
       "    </tr>\n",
       "    <tr>\n",
       "      <th>1</th>\n",
       "      <td>'348167215536803841'</td>\n",
       "      <td>Nothing like a :16 second downpour to give us ...</td>\n",
       "      <td>0</td>\n",
       "      <td>flood</td>\n",
       "    </tr>\n",
       "    <tr>\n",
       "      <th>2</th>\n",
       "      <td>'348644655786778624'</td>\n",
       "      <td>@NelsonTagoona so glad that you missed the flo...</td>\n",
       "      <td>1</td>\n",
       "      <td>flood</td>\n",
       "    </tr>\n",
       "    <tr>\n",
       "      <th>3</th>\n",
       "      <td>'350519668815036416'</td>\n",
       "      <td>Party hard , suns down , still warm , lovin li...</td>\n",
       "      <td>0</td>\n",
       "      <td>flood</td>\n",
       "    </tr>\n",
       "    <tr>\n",
       "      <th>4</th>\n",
       "      <td>'351446519733432320'</td>\n",
       "      <td>@Exclusionzone if you compare yourself to wate...</td>\n",
       "      <td>0</td>\n",
       "      <td>flood</td>\n",
       "    </tr>\n",
       "  </tbody>\n",
       "</table>\n",
       "</div>"
      ],
      "text/plain": [
       "                     id                                               text  \\\n",
       "0  '348351442404376578'  @Jay1972Jay Nope. Mid 80's. It's off Metallica...   \n",
       "1  '348167215536803841'  Nothing like a :16 second downpour to give us ...   \n",
       "2  '348644655786778624'  @NelsonTagoona so glad that you missed the flo...   \n",
       "3  '350519668815036416'  Party hard , suns down , still warm , lovin li...   \n",
       "4  '351446519733432320'  @Exclusionzone if you compare yourself to wate...   \n",
       "\n",
       "   label_on-topic   type  \n",
       "0               0  flood  \n",
       "1               0  flood  \n",
       "2               1  flood  \n",
       "3               0  flood  \n",
       "4               0  flood  "
      ]
     },
     "execution_count": 241,
     "metadata": {},
     "output_type": "execute_result"
    }
   ],
   "source": [
    "alberta_floods_df.head()"
   ]
  },
  {
   "cell_type": "code",
   "execution_count": 242,
   "metadata": {},
   "outputs": [],
   "source": [
    "# af_tfidf_df = pd.SparseDataFrame(tfidf.fit_transform(alberta_floods_df['lemmatized']),\n",
    "#                               columns = tfidf.get_feature_names())"
   ]
  },
  {
   "cell_type": "code",
   "execution_count": 243,
   "metadata": {},
   "outputs": [],
   "source": [
    "# af_tfidf_df.fillna(0, inplace = True)"
   ]
  },
  {
   "cell_type": "markdown",
   "metadata": {},
   "source": [
    "### Boston Bombing"
   ]
  },
  {
   "cell_type": "code",
   "execution_count": 244,
   "metadata": {},
   "outputs": [],
   "source": [
    "boston_bombing.rename(columns = {'tweet id': 'id',\n",
    "                                 ' tweet': 'text',\n",
    "                                 ' label': 'label'},\n",
    "                      inplace=True)"
   ]
  },
  {
   "cell_type": "code",
   "execution_count": 245,
   "metadata": {},
   "outputs": [],
   "source": [
    "boston_bombing_df = pd.get_dummies(data=boston_bombing, \n",
    "                                   columns=['label'], \n",
    "                                   drop_first=True)"
   ]
  },
  {
   "cell_type": "code",
   "execution_count": 246,
   "metadata": {},
   "outputs": [],
   "source": [
    "boston_bombing_df['type'] = 'bombing'"
   ]
  },
  {
   "cell_type": "markdown",
   "metadata": {},
   "source": [
    "### Oklahoma Tornado"
   ]
  },
  {
   "cell_type": "code",
   "execution_count": 247,
   "metadata": {},
   "outputs": [],
   "source": [
    "oklahoma_tornado.rename(columns = {'tweet id': 'id',\n",
    "                                   ' tweet': 'text',\n",
    "                                   ' label': 'label'},\n",
    "                       inplace=True)"
   ]
  },
  {
   "cell_type": "code",
   "execution_count": 248,
   "metadata": {},
   "outputs": [],
   "source": [
    "oklahoma_tornado_df = pd.get_dummies(data=oklahoma_tornado, \n",
    "                                     columns=['label'], \n",
    "                                     drop_first=True)"
   ]
  },
  {
   "cell_type": "code",
   "execution_count": 249,
   "metadata": {},
   "outputs": [],
   "source": [
    "oklahoma_tornado_df['type'] = 'tornado'"
   ]
  },
  {
   "cell_type": "markdown",
   "metadata": {},
   "source": [
    "### Queensland Flood"
   ]
  },
  {
   "cell_type": "code",
   "execution_count": 250,
   "metadata": {},
   "outputs": [],
   "source": [
    "queensland_flood.rename(columns = {'tweet id': 'id',\n",
    "                                   ' tweet': 'text',\n",
    "                                   ' label': 'label'},\n",
    "                       inplace=True)"
   ]
  },
  {
   "cell_type": "code",
   "execution_count": 251,
   "metadata": {},
   "outputs": [],
   "source": [
    "queensland_flood_df = pd.get_dummies(data=queensland_flood, \n",
    "                                     columns=['label'], \n",
    "                                     drop_first=True)"
   ]
  },
  {
   "cell_type": "code",
   "execution_count": 252,
   "metadata": {},
   "outputs": [],
   "source": [
    "queensland_flood_df['type'] = 'flood'"
   ]
  },
  {
   "cell_type": "markdown",
   "metadata": {},
   "source": [
    "### Texas Explosion"
   ]
  },
  {
   "cell_type": "code",
   "execution_count": 253,
   "metadata": {},
   "outputs": [],
   "source": [
    "texas_explosion.rename(columns = {'tweet id': 'id',\n",
    "                                  ' tweet': 'text',\n",
    "                                  ' label': 'label'},\n",
    "                       inplace=True)"
   ]
  },
  {
   "cell_type": "code",
   "execution_count": 254,
   "metadata": {},
   "outputs": [],
   "source": [
    "texas_explosion_df = pd.get_dummies(data=texas_explosion, \n",
    "                                    columns=['label'], \n",
    "                                    drop_first=True)"
   ]
  },
  {
   "cell_type": "code",
   "execution_count": 255,
   "metadata": {},
   "outputs": [],
   "source": [
    "texas_explosion_df['type'] = 'explosion'"
   ]
  },
  {
   "cell_type": "markdown",
   "metadata": {},
   "source": [
    "### Combine DataFrames"
   ]
  },
  {
   "cell_type": "markdown",
   "metadata": {},
   "source": [
    "Combine all processed dataframes into one comprehensive dataframe with each tweet related to its respective disaster."
   ]
  },
  {
   "cell_type": "code",
   "execution_count": 256,
   "metadata": {},
   "outputs": [],
   "source": [
    "final_labeled_df = pd.concat([sandy_hurricane_df, \n",
    "                             alberta_floods_df, \n",
    "                             oklahoma_tornado_df, \n",
    "                             queensland_flood_df])"
   ]
  },
  {
   "cell_type": "code",
   "execution_count": 257,
   "metadata": {},
   "outputs": [
    {
     "data": {
      "text/plain": [
       "(40064, 4)"
      ]
     },
     "execution_count": 257,
     "metadata": {},
     "output_type": "execute_result"
    }
   ],
   "source": [
    "final_labeled_df.shape"
   ]
  },
  {
   "cell_type": "markdown",
   "metadata": {},
   "source": [
    "We have a total of 60,082 observations and 3 features."
   ]
  },
  {
   "cell_type": "code",
   "execution_count": 258,
   "metadata": {},
   "outputs": [
    {
     "data": {
      "text/html": [
       "<div>\n",
       "<style scoped>\n",
       "    .dataframe tbody tr th:only-of-type {\n",
       "        vertical-align: middle;\n",
       "    }\n",
       "\n",
       "    .dataframe tbody tr th {\n",
       "        vertical-align: top;\n",
       "    }\n",
       "\n",
       "    .dataframe thead th {\n",
       "        text-align: right;\n",
       "    }\n",
       "</style>\n",
       "<table border=\"1\" class=\"dataframe\">\n",
       "  <thead>\n",
       "    <tr style=\"text-align: right;\">\n",
       "      <th></th>\n",
       "      <th>id</th>\n",
       "      <th>text</th>\n",
       "      <th>label_on-topic</th>\n",
       "      <th>type</th>\n",
       "    </tr>\n",
       "  </thead>\n",
       "  <tbody>\n",
       "    <tr>\n",
       "      <th>0</th>\n",
       "      <td>'262596552399396864'</td>\n",
       "      <td>I've got enough candles to supply a Mexican fa...</td>\n",
       "      <td>0</td>\n",
       "      <td>hurricane</td>\n",
       "    </tr>\n",
       "    <tr>\n",
       "      <th>1</th>\n",
       "      <td>'263044104500420609'</td>\n",
       "      <td>Sandy be soooo mad that she be shattering our ...</td>\n",
       "      <td>1</td>\n",
       "      <td>hurricane</td>\n",
       "    </tr>\n",
       "    <tr>\n",
       "      <th>2</th>\n",
       "      <td>'263309629973491712'</td>\n",
       "      <td>@ibexgirl thankfully Hurricane Waugh played it...</td>\n",
       "      <td>0</td>\n",
       "      <td>hurricane</td>\n",
       "    </tr>\n",
       "    <tr>\n",
       "      <th>3</th>\n",
       "      <td>'263422851133079552'</td>\n",
       "      <td>@taos you never got that magnificent case of B...</td>\n",
       "      <td>0</td>\n",
       "      <td>hurricane</td>\n",
       "    </tr>\n",
       "    <tr>\n",
       "      <th>4</th>\n",
       "      <td>'262404311223504896'</td>\n",
       "      <td>I'm at Mad River Bar &amp;amp; Grille (New York, N...</td>\n",
       "      <td>0</td>\n",
       "      <td>hurricane</td>\n",
       "    </tr>\n",
       "  </tbody>\n",
       "</table>\n",
       "</div>"
      ],
      "text/plain": [
       "                     id                                               text  \\\n",
       "0  '262596552399396864'  I've got enough candles to supply a Mexican fa...   \n",
       "1  '263044104500420609'  Sandy be soooo mad that she be shattering our ...   \n",
       "2  '263309629973491712'  @ibexgirl thankfully Hurricane Waugh played it...   \n",
       "3  '263422851133079552'  @taos you never got that magnificent case of B...   \n",
       "4  '262404311223504896'  I'm at Mad River Bar &amp; Grille (New York, N...   \n",
       "\n",
       "   label_on-topic       type  \n",
       "0               0  hurricane  \n",
       "1               1  hurricane  \n",
       "2               0  hurricane  \n",
       "3               0  hurricane  \n",
       "4               0  hurricane  "
      ]
     },
     "execution_count": 258,
     "metadata": {},
     "output_type": "execute_result"
    }
   ],
   "source": [
    "final_labeled_df.head()"
   ]
  },
  {
   "cell_type": "markdown",
   "metadata": {},
   "source": [
    "## Preprocessing"
   ]
  },
  {
   "cell_type": "markdown",
   "metadata": {},
   "source": [
    "### Clean Text\n",
    "\n",
    "In order to remove any text that will only contribute noise to our model, we will define a function that uses regular expressions to replace certain patterns:\n",
    "\n",
    "-  **Convert all text to lower case**\n",
    "-  **Remove additional white sapce**\n",
    "-  **Remove links:** \n",
    "    -  Links starting with `www.` or `https?://:` are replaced with `URL`. Each link is most likely to be unique to the tweet and won't provide any information in regards to the content overall. \n",
    "-  **Eliminate hashtags**\n",
    "-  **Remove `@`** "
   ]
  },
  {
   "cell_type": "code",
   "execution_count": 259,
   "metadata": {},
   "outputs": [],
   "source": [
    "def processTweet(tweet):\n",
    "    tweet = tweet.lower()\n",
    "    tweet = re.sub('[\\s]+', ' ', tweet)\n",
    "    tweet = re.sub('((www\\.[^\\s]+)|(https?://[^\\s]+))','URL',tweet)\n",
    "    tweet = re.sub(r'#([^\\s]+)', r'\\1', tweet)\n",
    "    tweet = re.sub('@', '', tweet)\n",
    "    return tweet"
   ]
  },
  {
   "cell_type": "code",
   "execution_count": 260,
   "metadata": {},
   "outputs": [],
   "source": [
    "final_labeled_df['processed'] = [processTweet(i) for i in final_labeled_df['text']]"
   ]
  },
  {
   "cell_type": "markdown",
   "metadata": {},
   "source": [
    "### Tokenize"
   ]
  },
  {
   "cell_type": "markdown",
   "metadata": {},
   "source": [
    "We instantiate tokenizer and define the search pattern using `r'\\w+` as our regular expression. We only want to search through words and omit digits and symbols."
   ]
  },
  {
   "cell_type": "code",
   "execution_count": 261,
   "metadata": {},
   "outputs": [],
   "source": [
    "tokenizer = RegexpTokenizer(r'\\w+')"
   ]
  },
  {
   "cell_type": "markdown",
   "metadata": {},
   "source": [
    "We tokenize the `processed` column and create a new column (`tokenized`) for our results."
   ]
  },
  {
   "cell_type": "code",
   "execution_count": 262,
   "metadata": {},
   "outputs": [],
   "source": [
    "final_labeled_df['tokenized'] = final_labeled_df['processed'].map(lambda x: tokenizer.tokenize(x))"
   ]
  },
  {
   "cell_type": "markdown",
   "metadata": {},
   "source": [
    "### Lemmatize"
   ]
  },
  {
   "cell_type": "markdown",
   "metadata": {},
   "source": [
    "We will lemmatize our data in an attempt to return the base form of each word."
   ]
  },
  {
   "cell_type": "code",
   "execution_count": 263,
   "metadata": {},
   "outputs": [],
   "source": [
    "lemmatizer = WordNetLemmatizer()"
   ]
  },
  {
   "cell_type": "markdown",
   "metadata": {},
   "source": [
    "We lemmatize the tokenized words in `tokenized` and join them to represent one string again. This is shown in the `lemmatized` column."
   ]
  },
  {
   "cell_type": "code",
   "execution_count": 264,
   "metadata": {},
   "outputs": [],
   "source": [
    "final_labeled_df['lemmatized'] = final_labeled_df['tokenized'].map(lambda x: ' '.join([lemmatizer.lemmatize(word) for word in x]))"
   ]
  },
  {
   "cell_type": "code",
   "execution_count": 265,
   "metadata": {},
   "outputs": [
    {
     "data": {
      "text/html": [
       "<div>\n",
       "<style scoped>\n",
       "    .dataframe tbody tr th:only-of-type {\n",
       "        vertical-align: middle;\n",
       "    }\n",
       "\n",
       "    .dataframe tbody tr th {\n",
       "        vertical-align: top;\n",
       "    }\n",
       "\n",
       "    .dataframe thead th {\n",
       "        text-align: right;\n",
       "    }\n",
       "</style>\n",
       "<table border=\"1\" class=\"dataframe\">\n",
       "  <thead>\n",
       "    <tr style=\"text-align: right;\">\n",
       "      <th></th>\n",
       "      <th>id</th>\n",
       "      <th>text</th>\n",
       "      <th>label_on-topic</th>\n",
       "      <th>type</th>\n",
       "      <th>processed</th>\n",
       "      <th>tokenized</th>\n",
       "      <th>lemmatized</th>\n",
       "    </tr>\n",
       "  </thead>\n",
       "  <tbody>\n",
       "    <tr>\n",
       "      <th>0</th>\n",
       "      <td>'262596552399396864'</td>\n",
       "      <td>I've got enough candles to supply a Mexican fa...</td>\n",
       "      <td>0</td>\n",
       "      <td>hurricane</td>\n",
       "      <td>i've got enough candles to supply a mexican fa...</td>\n",
       "      <td>[i, ve, got, enough, candles, to, supply, a, m...</td>\n",
       "      <td>i ve got enough candle to supply a mexican family</td>\n",
       "    </tr>\n",
       "    <tr>\n",
       "      <th>1</th>\n",
       "      <td>'263044104500420609'</td>\n",
       "      <td>Sandy be soooo mad that she be shattering our ...</td>\n",
       "      <td>1</td>\n",
       "      <td>hurricane</td>\n",
       "      <td>sandy be soooo mad that she be shattering our ...</td>\n",
       "      <td>[sandy, be, soooo, mad, that, she, be, shatter...</td>\n",
       "      <td>sandy be soooo mad that she be shattering our ...</td>\n",
       "    </tr>\n",
       "    <tr>\n",
       "      <th>2</th>\n",
       "      <td>'263309629973491712'</td>\n",
       "      <td>@ibexgirl thankfully Hurricane Waugh played it...</td>\n",
       "      <td>0</td>\n",
       "      <td>hurricane</td>\n",
       "      <td>ibexgirl thankfully hurricane waugh played it ...</td>\n",
       "      <td>[ibexgirl, thankfully, hurricane, waugh, playe...</td>\n",
       "      <td>ibexgirl thankfully hurricane waugh played it ...</td>\n",
       "    </tr>\n",
       "    <tr>\n",
       "      <th>3</th>\n",
       "      <td>'263422851133079552'</td>\n",
       "      <td>@taos you never got that magnificent case of B...</td>\n",
       "      <td>0</td>\n",
       "      <td>hurricane</td>\n",
       "      <td>taos you never got that magnificent case of bu...</td>\n",
       "      <td>[taos, you, never, got, that, magnificent, cas...</td>\n",
       "      <td>tao you never got that magnificent case of bur...</td>\n",
       "    </tr>\n",
       "    <tr>\n",
       "      <th>4</th>\n",
       "      <td>'262404311223504896'</td>\n",
       "      <td>I'm at Mad River Bar &amp;amp; Grille (New York, N...</td>\n",
       "      <td>0</td>\n",
       "      <td>hurricane</td>\n",
       "      <td>i'm at mad river bar &amp;amp; grille (new york, n...</td>\n",
       "      <td>[i, m, at, mad, river, bar, amp, grille, new, ...</td>\n",
       "      <td>i m at mad river bar amp grille new york ny URL</td>\n",
       "    </tr>\n",
       "  </tbody>\n",
       "</table>\n",
       "</div>"
      ],
      "text/plain": [
       "                     id                                               text  \\\n",
       "0  '262596552399396864'  I've got enough candles to supply a Mexican fa...   \n",
       "1  '263044104500420609'  Sandy be soooo mad that she be shattering our ...   \n",
       "2  '263309629973491712'  @ibexgirl thankfully Hurricane Waugh played it...   \n",
       "3  '263422851133079552'  @taos you never got that magnificent case of B...   \n",
       "4  '262404311223504896'  I'm at Mad River Bar &amp; Grille (New York, N...   \n",
       "\n",
       "   label_on-topic       type  \\\n",
       "0               0  hurricane   \n",
       "1               1  hurricane   \n",
       "2               0  hurricane   \n",
       "3               0  hurricane   \n",
       "4               0  hurricane   \n",
       "\n",
       "                                           processed  \\\n",
       "0  i've got enough candles to supply a mexican fa...   \n",
       "1  sandy be soooo mad that she be shattering our ...   \n",
       "2  ibexgirl thankfully hurricane waugh played it ...   \n",
       "3  taos you never got that magnificent case of bu...   \n",
       "4  i'm at mad river bar &amp; grille (new york, n...   \n",
       "\n",
       "                                           tokenized  \\\n",
       "0  [i, ve, got, enough, candles, to, supply, a, m...   \n",
       "1  [sandy, be, soooo, mad, that, she, be, shatter...   \n",
       "2  [ibexgirl, thankfully, hurricane, waugh, playe...   \n",
       "3  [taos, you, never, got, that, magnificent, cas...   \n",
       "4  [i, m, at, mad, river, bar, amp, grille, new, ...   \n",
       "\n",
       "                                          lemmatized  \n",
       "0  i ve got enough candle to supply a mexican family  \n",
       "1  sandy be soooo mad that she be shattering our ...  \n",
       "2  ibexgirl thankfully hurricane waugh played it ...  \n",
       "3  tao you never got that magnificent case of bur...  \n",
       "4    i m at mad river bar amp grille new york ny URL  "
      ]
     },
     "execution_count": 265,
     "metadata": {},
     "output_type": "execute_result"
    }
   ],
   "source": [
    "final_labeled_df.head()"
   ]
  },
  {
   "cell_type": "markdown",
   "metadata": {},
   "source": [
    "### TF-IDF"
   ]
  },
  {
   "cell_type": "markdown",
   "metadata": {},
   "source": [
    "We want to use TF-IDF to determine which words are most discriminating between tweets. Words that occue frequently are penalized and rare words are given more influence in our model. \n",
    "\n",
    "We instantiate TfidfVectorizer() and set:\n",
    "-  `ngram_range = (1, 2)`: Set an upper and lower bound of 1 and 2. Word sequence will contain at least 1 and up to 2 words.\n",
    "-  `stop_words='english'`: Filter out commonly used words in English\n",
    "-  `min_df = 25`: Ignore terms that occur in less than 25 documents of the corpus\n",
    "-  `max_df = 1.0`: There is no maximum threshold since terms cannot have a document frequency greater than `100%`. \n",
    "\n",
    "We then create a dataframe, `tfidf_df` for each word and its frequency."
   ]
  },
  {
   "cell_type": "code",
   "execution_count": 266,
   "metadata": {},
   "outputs": [],
   "source": [
    "tfidf = TfidfVectorizer(ngram_range=(1,2), \n",
    "                        stop_words = 'english', \n",
    "                        min_df = 25, \n",
    "                        max_df = 1.0)\n",
    "\n",
    "tfidf_df = pd.SparseDataFrame(tfidf.fit_transform(final_labeled_df['lemmatized']),\n",
    "                              columns = tfidf.get_feature_names())"
   ]
  },
  {
   "cell_type": "code",
   "execution_count": 267,
   "metadata": {},
   "outputs": [],
   "source": [
    "tfidf_df.fillna(0, inplace = True)"
   ]
  },
  {
   "cell_type": "code",
   "execution_count": 268,
   "metadata": {},
   "outputs": [
    {
     "data": {
      "text/html": [
       "<div>\n",
       "<style scoped>\n",
       "    .dataframe tbody tr th:only-of-type {\n",
       "        vertical-align: middle;\n",
       "    }\n",
       "\n",
       "    .dataframe tbody tr th {\n",
       "        vertical-align: top;\n",
       "    }\n",
       "\n",
       "    .dataframe thead th {\n",
       "        text-align: right;\n",
       "    }\n",
       "</style>\n",
       "<table border=\"1\" class=\"dataframe\">\n",
       "  <thead>\n",
       "    <tr style=\"text-align: right;\">\n",
       "      <th></th>\n",
       "      <th>00</th>\n",
       "      <th>00 humidity</th>\n",
       "      <th>000</th>\n",
       "      <th>000 help</th>\n",
       "      <th>000 home</th>\n",
       "      <th>000 people</th>\n",
       "      <th>10</th>\n",
       "      <th>10 donation</th>\n",
       "      <th>10 online</th>\n",
       "      <th>100</th>\n",
       "      <th>...</th>\n",
       "      <th>yycflood abflood</th>\n",
       "      <th>yycflood relief</th>\n",
       "      <th>yycflood url</th>\n",
       "      <th>yycflood yyc</th>\n",
       "      <th>yycflood yychelps</th>\n",
       "      <th>yycfloods</th>\n",
       "      <th>yychelps</th>\n",
       "      <th>yychelps yycflood</th>\n",
       "      <th>zone</th>\n",
       "      <th>zoo</th>\n",
       "    </tr>\n",
       "  </thead>\n",
       "  <tbody>\n",
       "    <tr>\n",
       "      <th>0</th>\n",
       "      <td>0.0</td>\n",
       "      <td>0.0</td>\n",
       "      <td>0.0</td>\n",
       "      <td>0.0</td>\n",
       "      <td>0.0</td>\n",
       "      <td>0.0</td>\n",
       "      <td>0.0</td>\n",
       "      <td>0.0</td>\n",
       "      <td>0.0</td>\n",
       "      <td>0.0</td>\n",
       "      <td>...</td>\n",
       "      <td>0.0</td>\n",
       "      <td>0.0</td>\n",
       "      <td>0.0</td>\n",
       "      <td>0.0</td>\n",
       "      <td>0.0</td>\n",
       "      <td>0.0</td>\n",
       "      <td>0.0</td>\n",
       "      <td>0.0</td>\n",
       "      <td>0.0</td>\n",
       "      <td>0.0</td>\n",
       "    </tr>\n",
       "    <tr>\n",
       "      <th>1</th>\n",
       "      <td>0.0</td>\n",
       "      <td>0.0</td>\n",
       "      <td>0.0</td>\n",
       "      <td>0.0</td>\n",
       "      <td>0.0</td>\n",
       "      <td>0.0</td>\n",
       "      <td>0.0</td>\n",
       "      <td>0.0</td>\n",
       "      <td>0.0</td>\n",
       "      <td>0.0</td>\n",
       "      <td>...</td>\n",
       "      <td>0.0</td>\n",
       "      <td>0.0</td>\n",
       "      <td>0.0</td>\n",
       "      <td>0.0</td>\n",
       "      <td>0.0</td>\n",
       "      <td>0.0</td>\n",
       "      <td>0.0</td>\n",
       "      <td>0.0</td>\n",
       "      <td>0.0</td>\n",
       "      <td>0.0</td>\n",
       "    </tr>\n",
       "    <tr>\n",
       "      <th>2</th>\n",
       "      <td>0.0</td>\n",
       "      <td>0.0</td>\n",
       "      <td>0.0</td>\n",
       "      <td>0.0</td>\n",
       "      <td>0.0</td>\n",
       "      <td>0.0</td>\n",
       "      <td>0.0</td>\n",
       "      <td>0.0</td>\n",
       "      <td>0.0</td>\n",
       "      <td>0.0</td>\n",
       "      <td>...</td>\n",
       "      <td>0.0</td>\n",
       "      <td>0.0</td>\n",
       "      <td>0.0</td>\n",
       "      <td>0.0</td>\n",
       "      <td>0.0</td>\n",
       "      <td>0.0</td>\n",
       "      <td>0.0</td>\n",
       "      <td>0.0</td>\n",
       "      <td>0.0</td>\n",
       "      <td>0.0</td>\n",
       "    </tr>\n",
       "    <tr>\n",
       "      <th>3</th>\n",
       "      <td>0.0</td>\n",
       "      <td>0.0</td>\n",
       "      <td>0.0</td>\n",
       "      <td>0.0</td>\n",
       "      <td>0.0</td>\n",
       "      <td>0.0</td>\n",
       "      <td>0.0</td>\n",
       "      <td>0.0</td>\n",
       "      <td>0.0</td>\n",
       "      <td>0.0</td>\n",
       "      <td>...</td>\n",
       "      <td>0.0</td>\n",
       "      <td>0.0</td>\n",
       "      <td>0.0</td>\n",
       "      <td>0.0</td>\n",
       "      <td>0.0</td>\n",
       "      <td>0.0</td>\n",
       "      <td>0.0</td>\n",
       "      <td>0.0</td>\n",
       "      <td>0.0</td>\n",
       "      <td>0.0</td>\n",
       "    </tr>\n",
       "    <tr>\n",
       "      <th>4</th>\n",
       "      <td>0.0</td>\n",
       "      <td>0.0</td>\n",
       "      <td>0.0</td>\n",
       "      <td>0.0</td>\n",
       "      <td>0.0</td>\n",
       "      <td>0.0</td>\n",
       "      <td>0.0</td>\n",
       "      <td>0.0</td>\n",
       "      <td>0.0</td>\n",
       "      <td>0.0</td>\n",
       "      <td>...</td>\n",
       "      <td>0.0</td>\n",
       "      <td>0.0</td>\n",
       "      <td>0.0</td>\n",
       "      <td>0.0</td>\n",
       "      <td>0.0</td>\n",
       "      <td>0.0</td>\n",
       "      <td>0.0</td>\n",
       "      <td>0.0</td>\n",
       "      <td>0.0</td>\n",
       "      <td>0.0</td>\n",
       "    </tr>\n",
       "  </tbody>\n",
       "</table>\n",
       "<p>5 rows × 2599 columns</p>\n",
       "</div>"
      ],
      "text/plain": [
       "    00  00 humidity  000  000 help  000 home  000 people   10  10 donation  \\\n",
       "0  0.0          0.0  0.0       0.0       0.0         0.0  0.0          0.0   \n",
       "1  0.0          0.0  0.0       0.0       0.0         0.0  0.0          0.0   \n",
       "2  0.0          0.0  0.0       0.0       0.0         0.0  0.0          0.0   \n",
       "3  0.0          0.0  0.0       0.0       0.0         0.0  0.0          0.0   \n",
       "4  0.0          0.0  0.0       0.0       0.0         0.0  0.0          0.0   \n",
       "\n",
       "   10 online  100 ...   yycflood abflood  yycflood relief  yycflood url  \\\n",
       "0        0.0  0.0 ...                0.0              0.0           0.0   \n",
       "1        0.0  0.0 ...                0.0              0.0           0.0   \n",
       "2        0.0  0.0 ...                0.0              0.0           0.0   \n",
       "3        0.0  0.0 ...                0.0              0.0           0.0   \n",
       "4        0.0  0.0 ...                0.0              0.0           0.0   \n",
       "\n",
       "   yycflood yyc  yycflood yychelps  yycfloods  yychelps  yychelps yycflood  \\\n",
       "0           0.0                0.0        0.0       0.0                0.0   \n",
       "1           0.0                0.0        0.0       0.0                0.0   \n",
       "2           0.0                0.0        0.0       0.0                0.0   \n",
       "3           0.0                0.0        0.0       0.0                0.0   \n",
       "4           0.0                0.0        0.0       0.0                0.0   \n",
       "\n",
       "   zone  zoo  \n",
       "0   0.0  0.0  \n",
       "1   0.0  0.0  \n",
       "2   0.0  0.0  \n",
       "3   0.0  0.0  \n",
       "4   0.0  0.0  \n",
       "\n",
       "[5 rows x 2599 columns]"
      ]
     },
     "execution_count": 268,
     "metadata": {},
     "output_type": "execute_result"
    }
   ],
   "source": [
    "tfidf_df.head()"
   ]
  },
  {
   "cell_type": "code",
   "execution_count": 269,
   "metadata": {},
   "outputs": [
    {
     "data": {
      "text/plain": [
       "(40064, 2599)"
      ]
     },
     "execution_count": 269,
     "metadata": {},
     "output_type": "execute_result"
    }
   ],
   "source": [
    "tfidf_df.shape"
   ]
  },
  {
   "cell_type": "markdown",
   "metadata": {},
   "source": [
    "## Modeling "
   ]
  },
  {
   "cell_type": "markdown",
   "metadata": {},
   "source": [
    "### Logistic Regression on alberta_floods"
   ]
  },
  {
   "cell_type": "markdown",
   "metadata": {},
   "source": [
    "We will conduct logistic regression on the alberta floods disaster to explore if our model can classify with confidence if a given tweet is on or off topic, in other words that the tweet does indeed relate to the ongoing disaster."
   ]
  },
  {
   "cell_type": "code",
   "execution_count": 270,
   "metadata": {},
   "outputs": [],
   "source": [
    "alberta_floods_df['processed'] = [processTweet(i) for i in alberta_floods_df['text']]"
   ]
  },
  {
   "cell_type": "code",
   "execution_count": 271,
   "metadata": {},
   "outputs": [],
   "source": [
    "alberta_floods_df['tokenized'] = alberta_floods_df['processed'].map(lambda x: tokenizer.tokenize(x))"
   ]
  },
  {
   "cell_type": "code",
   "execution_count": 272,
   "metadata": {},
   "outputs": [],
   "source": [
    "alberta_floods_df['lemmatized'] = alberta_floods_df['tokenized'].map(lambda x: ' '.join([lemmatizer.lemmatize(word) for word in x]))"
   ]
  },
  {
   "cell_type": "code",
   "execution_count": 273,
   "metadata": {},
   "outputs": [
    {
     "data": {
      "text/html": [
       "<div>\n",
       "<style scoped>\n",
       "    .dataframe tbody tr th:only-of-type {\n",
       "        vertical-align: middle;\n",
       "    }\n",
       "\n",
       "    .dataframe tbody tr th {\n",
       "        vertical-align: top;\n",
       "    }\n",
       "\n",
       "    .dataframe thead th {\n",
       "        text-align: right;\n",
       "    }\n",
       "</style>\n",
       "<table border=\"1\" class=\"dataframe\">\n",
       "  <thead>\n",
       "    <tr style=\"text-align: right;\">\n",
       "      <th></th>\n",
       "      <th>id</th>\n",
       "      <th>text</th>\n",
       "      <th>label_on-topic</th>\n",
       "      <th>type</th>\n",
       "      <th>processed</th>\n",
       "      <th>tokenized</th>\n",
       "      <th>lemmatized</th>\n",
       "    </tr>\n",
       "  </thead>\n",
       "  <tbody>\n",
       "    <tr>\n",
       "      <th>0</th>\n",
       "      <td>'348351442404376578'</td>\n",
       "      <td>@Jay1972Jay Nope. Mid 80's. It's off Metallica...</td>\n",
       "      <td>0</td>\n",
       "      <td>flood</td>\n",
       "      <td>jay1972jay nope. mid 80's. it's off metallica'...</td>\n",
       "      <td>[jay1972jay, nope, mid, 80, s, it, s, off, met...</td>\n",
       "      <td>jay1972jay nope mid 80 s it s off metallica s ...</td>\n",
       "    </tr>\n",
       "    <tr>\n",
       "      <th>1</th>\n",
       "      <td>'348167215536803841'</td>\n",
       "      <td>Nothing like a :16 second downpour to give us ...</td>\n",
       "      <td>0</td>\n",
       "      <td>flood</td>\n",
       "      <td>nothing like a :16 second downpour to give us ...</td>\n",
       "      <td>[nothing, like, a, 16, second, downpour, to, g...</td>\n",
       "      <td>nothing like a 16 second downpour to give u so...</td>\n",
       "    </tr>\n",
       "    <tr>\n",
       "      <th>2</th>\n",
       "      <td>'348644655786778624'</td>\n",
       "      <td>@NelsonTagoona so glad that you missed the flo...</td>\n",
       "      <td>1</td>\n",
       "      <td>flood</td>\n",
       "      <td>nelsontagoona so glad that you missed the floo...</td>\n",
       "      <td>[nelsontagoona, so, glad, that, you, missed, t...</td>\n",
       "      <td>nelsontagoona so glad that you missed the floo...</td>\n",
       "    </tr>\n",
       "    <tr>\n",
       "      <th>3</th>\n",
       "      <td>'350519668815036416'</td>\n",
       "      <td>Party hard , suns down , still warm , lovin li...</td>\n",
       "      <td>0</td>\n",
       "      <td>flood</td>\n",
       "      <td>party hard , suns down , still warm , lovin li...</td>\n",
       "      <td>[party, hard, suns, down, still, warm, lovin, ...</td>\n",
       "      <td>party hard sun down still warm lovin life smil...</td>\n",
       "    </tr>\n",
       "    <tr>\n",
       "      <th>4</th>\n",
       "      <td>'351446519733432320'</td>\n",
       "      <td>@Exclusionzone if you compare yourself to wate...</td>\n",
       "      <td>0</td>\n",
       "      <td>flood</td>\n",
       "      <td>exclusionzone if you compare yourself to water...</td>\n",
       "      <td>[exclusionzone, if, you, compare, yourself, to...</td>\n",
       "      <td>exclusionzone if you compare yourself to water...</td>\n",
       "    </tr>\n",
       "  </tbody>\n",
       "</table>\n",
       "</div>"
      ],
      "text/plain": [
       "                     id                                               text  \\\n",
       "0  '348351442404376578'  @Jay1972Jay Nope. Mid 80's. It's off Metallica...   \n",
       "1  '348167215536803841'  Nothing like a :16 second downpour to give us ...   \n",
       "2  '348644655786778624'  @NelsonTagoona so glad that you missed the flo...   \n",
       "3  '350519668815036416'  Party hard , suns down , still warm , lovin li...   \n",
       "4  '351446519733432320'  @Exclusionzone if you compare yourself to wate...   \n",
       "\n",
       "   label_on-topic   type                                          processed  \\\n",
       "0               0  flood  jay1972jay nope. mid 80's. it's off metallica'...   \n",
       "1               0  flood  nothing like a :16 second downpour to give us ...   \n",
       "2               1  flood  nelsontagoona so glad that you missed the floo...   \n",
       "3               0  flood  party hard , suns down , still warm , lovin li...   \n",
       "4               0  flood  exclusionzone if you compare yourself to water...   \n",
       "\n",
       "                                           tokenized  \\\n",
       "0  [jay1972jay, nope, mid, 80, s, it, s, off, met...   \n",
       "1  [nothing, like, a, 16, second, downpour, to, g...   \n",
       "2  [nelsontagoona, so, glad, that, you, missed, t...   \n",
       "3  [party, hard, suns, down, still, warm, lovin, ...   \n",
       "4  [exclusionzone, if, you, compare, yourself, to...   \n",
       "\n",
       "                                          lemmatized  \n",
       "0  jay1972jay nope mid 80 s it s off metallica s ...  \n",
       "1  nothing like a 16 second downpour to give u so...  \n",
       "2  nelsontagoona so glad that you missed the floo...  \n",
       "3  party hard sun down still warm lovin life smil...  \n",
       "4  exclusionzone if you compare yourself to water...  "
      ]
     },
     "execution_count": 273,
     "metadata": {},
     "output_type": "execute_result"
    }
   ],
   "source": [
    "alberta_floods_df.head()"
   ]
  },
  {
   "cell_type": "code",
   "execution_count": 274,
   "metadata": {},
   "outputs": [],
   "source": [
    "X_af = alberta_floods_df[['lemmatized']]\n",
    "y_af = alberta_floods_df['label_on-topic']"
   ]
  },
  {
   "cell_type": "code",
   "execution_count": 275,
   "metadata": {},
   "outputs": [],
   "source": [
    "X_train_af, X_test_af, y_train_af, y_test_af = train_test_split(X_af, y_af, stratify = y_af, random_state = 42)"
   ]
  },
  {
   "cell_type": "code",
   "execution_count": 276,
   "metadata": {},
   "outputs": [
    {
     "data": {
      "text/plain": [
       "1    0.517296\n",
       "0    0.482704\n",
       "Name: label_on-topic, dtype: float64"
      ]
     },
     "execution_count": 276,
     "metadata": {},
     "output_type": "execute_result"
    }
   ],
   "source": [
    "y_af.value_counts(normalize = True)"
   ]
  },
  {
   "cell_type": "code",
   "execution_count": 277,
   "metadata": {},
   "outputs": [
    {
     "data": {
      "text/html": [
       "<div>\n",
       "<style scoped>\n",
       "    .dataframe tbody tr th:only-of-type {\n",
       "        vertical-align: middle;\n",
       "    }\n",
       "\n",
       "    .dataframe tbody tr th {\n",
       "        vertical-align: top;\n",
       "    }\n",
       "\n",
       "    .dataframe thead th {\n",
       "        text-align: right;\n",
       "    }\n",
       "</style>\n",
       "<table border=\"1\" class=\"dataframe\">\n",
       "  <thead>\n",
       "    <tr style=\"text-align: right;\">\n",
       "      <th></th>\n",
       "      <th>lemmatized</th>\n",
       "    </tr>\n",
       "  </thead>\n",
       "  <tbody>\n",
       "    <tr>\n",
       "      <th>1046</th>\n",
       "      <td>this aint even that bad anyone remember that e...</td>\n",
       "    </tr>\n",
       "    <tr>\n",
       "      <th>2772</th>\n",
       "      <td>derek pushing people away to keep them safe ho...</td>\n",
       "    </tr>\n",
       "    <tr>\n",
       "      <th>1716</th>\n",
       "      <td>bye ocean grove fishing pier ocean grove fishi...</td>\n",
       "    </tr>\n",
       "    <tr>\n",
       "      <th>2669</th>\n",
       "      <td>gotta get ready for the storm of the century h...</td>\n",
       "    </tr>\n",
       "    <tr>\n",
       "      <th>8759</th>\n",
       "      <td>rt prodigypimpwalk romney said he ll stop the ...</td>\n",
       "    </tr>\n",
       "  </tbody>\n",
       "</table>\n",
       "</div>"
      ],
      "text/plain": [
       "                                             lemmatized\n",
       "1046  this aint even that bad anyone remember that e...\n",
       "2772  derek pushing people away to keep them safe ho...\n",
       "1716  bye ocean grove fishing pier ocean grove fishi...\n",
       "2669  gotta get ready for the storm of the century h...\n",
       "8759  rt prodigypimpwalk romney said he ll stop the ..."
      ]
     },
     "execution_count": 277,
     "metadata": {},
     "output_type": "execute_result"
    }
   ],
   "source": [
    "X_train.head()"
   ]
  },
  {
   "cell_type": "code",
   "execution_count": 278,
   "metadata": {},
   "outputs": [],
   "source": [
    "X_train_tfidf_af = pd.DataFrame(tfidf.fit_transform(X_train_af['lemmatized']).todense(), \n",
    "                          columns = tfidf.get_feature_names()) "
   ]
  },
  {
   "cell_type": "code",
   "execution_count": 279,
   "metadata": {},
   "outputs": [],
   "source": [
    "X_test_tfidf_af = pd.DataFrame(tfidf.transform(X_test_af['lemmatized']).todense(),\n",
    "                          columns = tfidf.get_feature_names()) "
   ]
  },
  {
   "cell_type": "code",
   "execution_count": 280,
   "metadata": {},
   "outputs": [],
   "source": [
    "from sklearn.linear_model import LogisticRegression"
   ]
  },
  {
   "cell_type": "code",
   "execution_count": 281,
   "metadata": {},
   "outputs": [],
   "source": [
    "lr_af = LogisticRegression()"
   ]
  },
  {
   "cell_type": "markdown",
   "metadata": {},
   "source": [
    "small c refers to strong regularization; l1 refers to lasso and l2 refers to ridge"
   ]
  },
  {
   "cell_type": "code",
   "execution_count": 282,
   "metadata": {},
   "outputs": [],
   "source": [
    "lr_af_params = {'C': [0.001, 0.01, 0.1, 1, 10, 100, 1000],\n",
    "             'penalty' : ['l1','l2']}"
   ]
  },
  {
   "cell_type": "code",
   "execution_count": 293,
   "metadata": {},
   "outputs": [
    {
     "name": "stdout",
     "output_type": "stream",
     "text": [
      "0.976455759559909\n"
     ]
    },
    {
     "data": {
      "text/plain": [
       "{'C': 10, 'penalty': 'l2'}"
      ]
     },
     "execution_count": 293,
     "metadata": {},
     "output_type": "execute_result"
    }
   ],
   "source": [
    "gs_lr_af = GridSearchCV(lr_af, param_grid = lr_af_params, scoring = 'roc_auc', cv = 3)\n",
    "gs_lr_af.fit(X_train_tfidf_af, y_train_af)\n",
    "print(gs_lr_af.best_score_)\n",
    "gs_lr_af.best_params_"
   ]
  },
  {
   "cell_type": "code",
   "execution_count": 294,
   "metadata": {},
   "outputs": [
    {
     "data": {
      "text/plain": [
       "0.9838336197297073"
      ]
     },
     "execution_count": 294,
     "metadata": {},
     "output_type": "execute_result"
    }
   ],
   "source": [
    "gs_lr_af.score(X_test_tfidf_af, y_test_af)"
   ]
  },
  {
   "cell_type": "code",
   "execution_count": 298,
   "metadata": {},
   "outputs": [],
   "source": [
    "gs_lr_af_coef_tfidf_df = pd.DataFrame(gs_lr_af.best_estimator_.coef_, columns = X_train_tfidf_af.columns).T"
   ]
  },
  {
   "cell_type": "code",
   "execution_count": 299,
   "metadata": {},
   "outputs": [],
   "source": [
    "gs_lr_af_coef_tfidf_df.columns = ['weights']"
   ]
  },
  {
   "cell_type": "code",
   "execution_count": 300,
   "metadata": {},
   "outputs": [],
   "source": [
    "gs_lr_af_coef_tfidf_df['odds'] = np.exp(gs_lr_af_coef_tfidf_df['weights'])"
   ]
  },
  {
   "cell_type": "code",
   "execution_count": 301,
   "metadata": {},
   "outputs": [],
   "source": [
    "gs_lr_af_coef_tfidf_df['abs_weights'] = np.abs(gs_lr_af_coef_tfidf_df['weights'])"
   ]
  },
  {
   "cell_type": "code",
   "execution_count": 302,
   "metadata": {},
   "outputs": [],
   "source": [
    "gs_lr_af_coef_tfidf_df['abs_weights'] = np.abs(gs_lr_af_coef_tfidf_df['weights'])"
   ]
  },
  {
   "cell_type": "code",
   "execution_count": 303,
   "metadata": {},
   "outputs": [
    {
     "data": {
      "text/html": [
       "<div>\n",
       "<style scoped>\n",
       "    .dataframe tbody tr th:only-of-type {\n",
       "        vertical-align: middle;\n",
       "    }\n",
       "\n",
       "    .dataframe tbody tr th {\n",
       "        vertical-align: top;\n",
       "    }\n",
       "\n",
       "    .dataframe thead th {\n",
       "        text-align: right;\n",
       "    }\n",
       "</style>\n",
       "<table border=\"1\" class=\"dataframe\">\n",
       "  <thead>\n",
       "    <tr style=\"text-align: right;\">\n",
       "      <th></th>\n",
       "      <th>weights</th>\n",
       "      <th>odds</th>\n",
       "      <th>abs_weights</th>\n",
       "    </tr>\n",
       "  </thead>\n",
       "  <tbody>\n",
       "    <tr>\n",
       "      <th>yycflood</th>\n",
       "      <td>19.504005</td>\n",
       "      <td>2.954484e+08</td>\n",
       "      <td>19.504005</td>\n",
       "    </tr>\n",
       "    <tr>\n",
       "      <th>flood</th>\n",
       "      <td>17.277057</td>\n",
       "      <td>3.186620e+07</td>\n",
       "      <td>17.277057</td>\n",
       "    </tr>\n",
       "    <tr>\n",
       "      <th>abflood</th>\n",
       "      <td>15.802680</td>\n",
       "      <td>7.294859e+06</td>\n",
       "      <td>15.802680</td>\n",
       "    </tr>\n",
       "    <tr>\n",
       "      <th>flooding</th>\n",
       "      <td>11.441356</td>\n",
       "      <td>9.309318e+04</td>\n",
       "      <td>11.441356</td>\n",
       "    </tr>\n",
       "    <tr>\n",
       "      <th>yycfloods</th>\n",
       "      <td>8.174334</td>\n",
       "      <td>3.548689e+03</td>\n",
       "      <td>8.174334</td>\n",
       "    </tr>\n",
       "    <tr>\n",
       "      <th>flooded</th>\n",
       "      <td>7.150594</td>\n",
       "      <td>1.274862e+03</td>\n",
       "      <td>7.150594</td>\n",
       "    </tr>\n",
       "    <tr>\n",
       "      <th>evacuated</th>\n",
       "      <td>6.805073</td>\n",
       "      <td>9.024138e+02</td>\n",
       "      <td>6.805073</td>\n",
       "    </tr>\n",
       "    <tr>\n",
       "      <th>abfloods</th>\n",
       "      <td>6.788481</td>\n",
       "      <td>8.875646e+02</td>\n",
       "      <td>6.788481</td>\n",
       "    </tr>\n",
       "    <tr>\n",
       "      <th>donate</th>\n",
       "      <td>5.537252</td>\n",
       "      <td>2.539791e+02</td>\n",
       "      <td>5.537252</td>\n",
       "    </tr>\n",
       "    <tr>\n",
       "      <th>flooding alberta</th>\n",
       "      <td>5.418236</td>\n",
       "      <td>2.254809e+02</td>\n",
       "      <td>5.418236</td>\n",
       "    </tr>\n",
       "    <tr>\n",
       "      <th>downtown</th>\n",
       "      <td>5.267226</td>\n",
       "      <td>1.938774e+02</td>\n",
       "      <td>5.267226</td>\n",
       "    </tr>\n",
       "    <tr>\n",
       "      <th>youralberta</th>\n",
       "      <td>5.259273</td>\n",
       "      <td>1.923416e+02</td>\n",
       "      <td>5.259273</td>\n",
       "    </tr>\n",
       "    <tr>\n",
       "      <th>donation</th>\n",
       "      <td>5.243894</td>\n",
       "      <td>1.894061e+02</td>\n",
       "      <td>5.243894</td>\n",
       "    </tr>\n",
       "    <tr>\n",
       "      <th>cityofcalgary</th>\n",
       "      <td>4.986358</td>\n",
       "      <td>1.464023e+02</td>\n",
       "      <td>4.986358</td>\n",
       "    </tr>\n",
       "    <tr>\n",
       "      <th>western</th>\n",
       "      <td>4.780328</td>\n",
       "      <td>1.191434e+02</td>\n",
       "      <td>4.780328</td>\n",
       "    </tr>\n",
       "  </tbody>\n",
       "</table>\n",
       "</div>"
      ],
      "text/plain": [
       "                    weights          odds  abs_weights\n",
       "yycflood          19.504005  2.954484e+08    19.504005\n",
       "flood             17.277057  3.186620e+07    17.277057\n",
       "abflood           15.802680  7.294859e+06    15.802680\n",
       "flooding          11.441356  9.309318e+04    11.441356\n",
       "yycfloods          8.174334  3.548689e+03     8.174334\n",
       "flooded            7.150594  1.274862e+03     7.150594\n",
       "evacuated          6.805073  9.024138e+02     6.805073\n",
       "abfloods           6.788481  8.875646e+02     6.788481\n",
       "donate             5.537252  2.539791e+02     5.537252\n",
       "flooding alberta   5.418236  2.254809e+02     5.418236\n",
       "downtown           5.267226  1.938774e+02     5.267226\n",
       "youralberta        5.259273  1.923416e+02     5.259273\n",
       "donation           5.243894  1.894061e+02     5.243894\n",
       "cityofcalgary      4.986358  1.464023e+02     4.986358\n",
       "western            4.780328  1.191434e+02     4.780328"
      ]
     },
     "execution_count": 303,
     "metadata": {},
     "output_type": "execute_result"
    }
   ],
   "source": [
    "gs_lr_af_coef_tfidf_df.sort_values(ascending=False, by='abs_weights').head(15)"
   ]
  },
  {
   "cell_type": "code",
   "execution_count": 304,
   "metadata": {},
   "outputs": [
    {
     "data": {
      "text/plain": [
       "([0, 1, 2, 3, 4, 5, 6, 7, 8, 9, 10, 11, 12, 13, 14],\n",
       " <a list of 15 Text yticklabel objects>)"
      ]
     },
     "execution_count": 304,
     "metadata": {},
     "output_type": "execute_result"
    },
    {
     "data": {
      "image/png": "[encoded data removed]",
      "text/plain": [
       "<Figure size 1440x720 with 1 Axes>"
      ]
     },
     "metadata": {
      "needs_background": "light"
     },
     "output_type": "display_data"
    }
   ],
   "source": [
    "plt.figure(figsize=(20,10))\n",
    "temp = gs_lr_af_coef_tfidf_df.sort_values('odds', ascending = False).head(15)\n",
    "plt.barh(temp.index, temp['odds'])\n",
    "plt.title('Top 15 words with positive impact on odds\\n baseline accuracy: 52% vs gs_lr accuracy: 98%', fontsize=35)\n",
    "plt.xlabel('Odds', fontsize=25)\n",
    "plt.ylabel('word', fontsize=25)\n",
    "plt.xticks(fontsize=15)\n",
    "plt.yticks(fontsize=15)"
   ]
  },
  {
   "cell_type": "markdown",
   "metadata": {},
   "source": [
    "### Logistic Regression on original dataframe"
   ]
  },
  {
   "cell_type": "markdown",
   "metadata": {},
   "source": [
    "We have shown that the logistic regression does well on a certain disaster (above). We will now explore if it can also classify well on the entire original dataframe without filtering for a certain disaster."
   ]
  },
  {
   "cell_type": "code",
   "execution_count": 305,
   "metadata": {},
   "outputs": [
    {
     "data": {
      "text/html": [
       "<div>\n",
       "<style scoped>\n",
       "    .dataframe tbody tr th:only-of-type {\n",
       "        vertical-align: middle;\n",
       "    }\n",
       "\n",
       "    .dataframe tbody tr th {\n",
       "        vertical-align: top;\n",
       "    }\n",
       "\n",
       "    .dataframe thead th {\n",
       "        text-align: right;\n",
       "    }\n",
       "</style>\n",
       "<table border=\"1\" class=\"dataframe\">\n",
       "  <thead>\n",
       "    <tr style=\"text-align: right;\">\n",
       "      <th></th>\n",
       "      <th>id</th>\n",
       "      <th>text</th>\n",
       "      <th>label_on-topic</th>\n",
       "      <th>type</th>\n",
       "      <th>processed</th>\n",
       "      <th>tokenized</th>\n",
       "      <th>lemmatized</th>\n",
       "    </tr>\n",
       "  </thead>\n",
       "  <tbody>\n",
       "    <tr>\n",
       "      <th>0</th>\n",
       "      <td>'262596552399396864'</td>\n",
       "      <td>I've got enough candles to supply a Mexican fa...</td>\n",
       "      <td>0</td>\n",
       "      <td>hurricane</td>\n",
       "      <td>i've got enough candles to supply a mexican fa...</td>\n",
       "      <td>[i, ve, got, enough, candles, to, supply, a, m...</td>\n",
       "      <td>i ve got enough candle to supply a mexican family</td>\n",
       "    </tr>\n",
       "    <tr>\n",
       "      <th>1</th>\n",
       "      <td>'263044104500420609'</td>\n",
       "      <td>Sandy be soooo mad that she be shattering our ...</td>\n",
       "      <td>1</td>\n",
       "      <td>hurricane</td>\n",
       "      <td>sandy be soooo mad that she be shattering our ...</td>\n",
       "      <td>[sandy, be, soooo, mad, that, she, be, shatter...</td>\n",
       "      <td>sandy be soooo mad that she be shattering our ...</td>\n",
       "    </tr>\n",
       "    <tr>\n",
       "      <th>2</th>\n",
       "      <td>'263309629973491712'</td>\n",
       "      <td>@ibexgirl thankfully Hurricane Waugh played it...</td>\n",
       "      <td>0</td>\n",
       "      <td>hurricane</td>\n",
       "      <td>ibexgirl thankfully hurricane waugh played it ...</td>\n",
       "      <td>[ibexgirl, thankfully, hurricane, waugh, playe...</td>\n",
       "      <td>ibexgirl thankfully hurricane waugh played it ...</td>\n",
       "    </tr>\n",
       "    <tr>\n",
       "      <th>3</th>\n",
       "      <td>'263422851133079552'</td>\n",
       "      <td>@taos you never got that magnificent case of B...</td>\n",
       "      <td>0</td>\n",
       "      <td>hurricane</td>\n",
       "      <td>taos you never got that magnificent case of bu...</td>\n",
       "      <td>[taos, you, never, got, that, magnificent, cas...</td>\n",
       "      <td>tao you never got that magnificent case of bur...</td>\n",
       "    </tr>\n",
       "    <tr>\n",
       "      <th>4</th>\n",
       "      <td>'262404311223504896'</td>\n",
       "      <td>I'm at Mad River Bar &amp;amp; Grille (New York, N...</td>\n",
       "      <td>0</td>\n",
       "      <td>hurricane</td>\n",
       "      <td>i'm at mad river bar &amp;amp; grille (new york, n...</td>\n",
       "      <td>[i, m, at, mad, river, bar, amp, grille, new, ...</td>\n",
       "      <td>i m at mad river bar amp grille new york ny URL</td>\n",
       "    </tr>\n",
       "  </tbody>\n",
       "</table>\n",
       "</div>"
      ],
      "text/plain": [
       "                     id                                               text  \\\n",
       "0  '262596552399396864'  I've got enough candles to supply a Mexican fa...   \n",
       "1  '263044104500420609'  Sandy be soooo mad that she be shattering our ...   \n",
       "2  '263309629973491712'  @ibexgirl thankfully Hurricane Waugh played it...   \n",
       "3  '263422851133079552'  @taos you never got that magnificent case of B...   \n",
       "4  '262404311223504896'  I'm at Mad River Bar &amp; Grille (New York, N...   \n",
       "\n",
       "   label_on-topic       type  \\\n",
       "0               0  hurricane   \n",
       "1               1  hurricane   \n",
       "2               0  hurricane   \n",
       "3               0  hurricane   \n",
       "4               0  hurricane   \n",
       "\n",
       "                                           processed  \\\n",
       "0  i've got enough candles to supply a mexican fa...   \n",
       "1  sandy be soooo mad that she be shattering our ...   \n",
       "2  ibexgirl thankfully hurricane waugh played it ...   \n",
       "3  taos you never got that magnificent case of bu...   \n",
       "4  i'm at mad river bar &amp; grille (new york, n...   \n",
       "\n",
       "                                           tokenized  \\\n",
       "0  [i, ve, got, enough, candles, to, supply, a, m...   \n",
       "1  [sandy, be, soooo, mad, that, she, be, shatter...   \n",
       "2  [ibexgirl, thankfully, hurricane, waugh, playe...   \n",
       "3  [taos, you, never, got, that, magnificent, cas...   \n",
       "4  [i, m, at, mad, river, bar, amp, grille, new, ...   \n",
       "\n",
       "                                          lemmatized  \n",
       "0  i ve got enough candle to supply a mexican family  \n",
       "1  sandy be soooo mad that she be shattering our ...  \n",
       "2  ibexgirl thankfully hurricane waugh played it ...  \n",
       "3  tao you never got that magnificent case of bur...  \n",
       "4    i m at mad river bar amp grille new york ny URL  "
      ]
     },
     "execution_count": 305,
     "metadata": {},
     "output_type": "execute_result"
    }
   ],
   "source": [
    "final_labeled_df.head()"
   ]
  },
  {
   "cell_type": "code",
   "execution_count": 306,
   "metadata": {},
   "outputs": [],
   "source": [
    "X = final_labeled_df[['lemmatized']]\n",
    "y = final_labeled_df['label_on-topic']"
   ]
  },
  {
   "cell_type": "code",
   "execution_count": 307,
   "metadata": {},
   "outputs": [
    {
     "data": {
      "text/plain": [
       "1    0.538339\n",
       "0    0.461661\n",
       "Name: label_on-topic, dtype: float64"
      ]
     },
     "execution_count": 307,
     "metadata": {},
     "output_type": "execute_result"
    }
   ],
   "source": [
    "y.value_counts(normalize = True)"
   ]
  },
  {
   "cell_type": "code",
   "execution_count": 308,
   "metadata": {},
   "outputs": [],
   "source": [
    "X_train, X_test, y_train, y_test = train_test_split(X, y, stratify = y, random_state = 42)"
   ]
  },
  {
   "cell_type": "code",
   "execution_count": 309,
   "metadata": {},
   "outputs": [
    {
     "data": {
      "text/html": [
       "<div>\n",
       "<style scoped>\n",
       "    .dataframe tbody tr th:only-of-type {\n",
       "        vertical-align: middle;\n",
       "    }\n",
       "\n",
       "    .dataframe tbody tr th {\n",
       "        vertical-align: top;\n",
       "    }\n",
       "\n",
       "    .dataframe thead th {\n",
       "        text-align: right;\n",
       "    }\n",
       "</style>\n",
       "<table border=\"1\" class=\"dataframe\">\n",
       "  <thead>\n",
       "    <tr style=\"text-align: right;\">\n",
       "      <th></th>\n",
       "      <th>lemmatized</th>\n",
       "    </tr>\n",
       "  </thead>\n",
       "  <tbody>\n",
       "    <tr>\n",
       "      <th>1046</th>\n",
       "      <td>this aint even that bad anyone remember that e...</td>\n",
       "    </tr>\n",
       "    <tr>\n",
       "      <th>2772</th>\n",
       "      <td>derek pushing people away to keep them safe ho...</td>\n",
       "    </tr>\n",
       "    <tr>\n",
       "      <th>1716</th>\n",
       "      <td>bye ocean grove fishing pier ocean grove fishi...</td>\n",
       "    </tr>\n",
       "    <tr>\n",
       "      <th>2669</th>\n",
       "      <td>gotta get ready for the storm of the century h...</td>\n",
       "    </tr>\n",
       "    <tr>\n",
       "      <th>8759</th>\n",
       "      <td>rt prodigypimpwalk romney said he ll stop the ...</td>\n",
       "    </tr>\n",
       "  </tbody>\n",
       "</table>\n",
       "</div>"
      ],
      "text/plain": [
       "                                             lemmatized\n",
       "1046  this aint even that bad anyone remember that e...\n",
       "2772  derek pushing people away to keep them safe ho...\n",
       "1716  bye ocean grove fishing pier ocean grove fishi...\n",
       "2669  gotta get ready for the storm of the century h...\n",
       "8759  rt prodigypimpwalk romney said he ll stop the ..."
      ]
     },
     "execution_count": 309,
     "metadata": {},
     "output_type": "execute_result"
    }
   ],
   "source": [
    "X_train.head()"
   ]
  },
  {
   "cell_type": "code",
   "execution_count": 310,
   "metadata": {},
   "outputs": [],
   "source": [
    "X_train_tfidf = pd.DataFrame(tfidf.fit_transform(X_train['lemmatized']).todense(), ##todense is 'expanding' the compressed version (adding 0's)\n",
    "                          columns = tfidf.get_feature_names()) "
   ]
  },
  {
   "cell_type": "code",
   "execution_count": 311,
   "metadata": {},
   "outputs": [],
   "source": [
    "X_test_tfidf = pd.DataFrame(tfidf.transform(X_test['lemmatized']).todense(), ##todense is 'expanding' the compressed version (adding 0's)\n",
    "                          columns = tfidf.get_feature_names()) "
   ]
  },
  {
   "cell_type": "code",
   "execution_count": 312,
   "metadata": {},
   "outputs": [],
   "source": [
    "from sklearn.linear_model import LogisticRegression"
   ]
  },
  {
   "cell_type": "code",
   "execution_count": 313,
   "metadata": {},
   "outputs": [],
   "source": [
    "lr = LogisticRegression()"
   ]
  },
  {
   "cell_type": "code",
   "execution_count": 314,
   "metadata": {},
   "outputs": [],
   "source": [
    "lr_params = {'C': [0.001, 0.01, 0.1, 1, 10, 100, 1000],\n",
    "             'penalty' : ['l1','l2']}"
   ]
  },
  {
   "cell_type": "code",
   "execution_count": 315,
   "metadata": {},
   "outputs": [
    {
     "name": "stdout",
     "output_type": "stream",
     "text": [
      "0.978972202453376\n"
     ]
    },
    {
     "data": {
      "text/plain": [
       "{'C': 1, 'penalty': 'l2'}"
      ]
     },
     "execution_count": 315,
     "metadata": {},
     "output_type": "execute_result"
    }
   ],
   "source": [
    "gs_lr = GridSearchCV(lr, param_grid = lr_params, scoring = 'roc_auc', cv = 3)\n",
    "gs_lr.fit(X_train_tfidf, y_train)\n",
    "print(gs_lr.best_score_)\n",
    "gs_lr.best_params_"
   ]
  },
  {
   "cell_type": "code",
   "execution_count": 316,
   "metadata": {},
   "outputs": [
    {
     "data": {
      "text/plain": [
       "0.9771191806328483"
      ]
     },
     "execution_count": 316,
     "metadata": {},
     "output_type": "execute_result"
    }
   ],
   "source": [
    "gs_lr.score(X_test_tfidf, y_test)"
   ]
  },
  {
   "cell_type": "code",
   "execution_count": 317,
   "metadata": {},
   "outputs": [],
   "source": [
    "gs_lr_coef_tfidf_df = pd.DataFrame(gs_lr.best_estimator_.coef_, columns = X_train_tfidf.columns).T"
   ]
  },
  {
   "cell_type": "code",
   "execution_count": 318,
   "metadata": {},
   "outputs": [],
   "source": [
    "gs_lr_coef_tfidf_df.columns = ['weights']"
   ]
  },
  {
   "cell_type": "code",
   "execution_count": 319,
   "metadata": {},
   "outputs": [],
   "source": [
    "gs_lr_coef_tfidf_df['odds'] = np.exp(gs_lr_coef_tfidf_df['weights'])"
   ]
  },
  {
   "cell_type": "code",
   "execution_count": 320,
   "metadata": {},
   "outputs": [],
   "source": [
    "gs_lr_coef_tfidf_df['abs_weights'] = np.abs(gs_lr_coef_tfidf_df['weights'])"
   ]
  },
  {
   "cell_type": "code",
   "execution_count": 321,
   "metadata": {},
   "outputs": [],
   "source": [
    "gs_lr_coef_tfidf_df['abs_weights'] = np.abs(gs_lr_coef_tfidf_df['weights'])"
   ]
  },
  {
   "cell_type": "code",
   "execution_count": 322,
   "metadata": {},
   "outputs": [
    {
     "data": {
      "text/html": [
       "<div>\n",
       "<style scoped>\n",
       "    .dataframe tbody tr th:only-of-type {\n",
       "        vertical-align: middle;\n",
       "    }\n",
       "\n",
       "    .dataframe tbody tr th {\n",
       "        vertical-align: top;\n",
       "    }\n",
       "\n",
       "    .dataframe thead th {\n",
       "        text-align: right;\n",
       "    }\n",
       "</style>\n",
       "<table border=\"1\" class=\"dataframe\">\n",
       "  <thead>\n",
       "    <tr style=\"text-align: right;\">\n",
       "      <th></th>\n",
       "      <th>weights</th>\n",
       "      <th>odds</th>\n",
       "      <th>abs_weights</th>\n",
       "    </tr>\n",
       "  </thead>\n",
       "  <tbody>\n",
       "    <tr>\n",
       "      <th>hurricane</th>\n",
       "      <td>16.979624</td>\n",
       "      <td>2.366774e+07</td>\n",
       "      <td>16.979624</td>\n",
       "    </tr>\n",
       "    <tr>\n",
       "      <th>flood</th>\n",
       "      <td>16.471080</td>\n",
       "      <td>1.423309e+07</td>\n",
       "      <td>16.471080</td>\n",
       "    </tr>\n",
       "    <tr>\n",
       "      <th>yycflood</th>\n",
       "      <td>11.552700</td>\n",
       "      <td>1.040576e+05</td>\n",
       "      <td>11.552700</td>\n",
       "    </tr>\n",
       "    <tr>\n",
       "      <th>sandy</th>\n",
       "      <td>10.151130</td>\n",
       "      <td>2.562005e+04</td>\n",
       "      <td>10.151130</td>\n",
       "    </tr>\n",
       "    <tr>\n",
       "      <th>abflood</th>\n",
       "      <td>9.690261</td>\n",
       "      <td>1.615945e+04</td>\n",
       "      <td>9.690261</td>\n",
       "    </tr>\n",
       "    <tr>\n",
       "      <th>tornado</th>\n",
       "      <td>9.343182</td>\n",
       "      <td>1.142070e+04</td>\n",
       "      <td>9.343182</td>\n",
       "    </tr>\n",
       "    <tr>\n",
       "      <th>flooding</th>\n",
       "      <td>7.333959</td>\n",
       "      <td>1.531433e+03</td>\n",
       "      <td>7.333959</td>\n",
       "    </tr>\n",
       "    <tr>\n",
       "      <th>oklahoma</th>\n",
       "      <td>7.309085</td>\n",
       "      <td>1.493810e+03</td>\n",
       "      <td>7.309085</td>\n",
       "    </tr>\n",
       "    <tr>\n",
       "      <th>storm</th>\n",
       "      <td>6.446426</td>\n",
       "      <td>6.304451e+02</td>\n",
       "      <td>6.446426</td>\n",
       "    </tr>\n",
       "    <tr>\n",
       "      <th>queensland</th>\n",
       "      <td>6.375990</td>\n",
       "      <td>5.875666e+02</td>\n",
       "      <td>6.375990</td>\n",
       "    </tr>\n",
       "    <tr>\n",
       "      <th>rt</th>\n",
       "      <td>5.873661</td>\n",
       "      <td>3.555484e+02</td>\n",
       "      <td>5.873661</td>\n",
       "    </tr>\n",
       "    <tr>\n",
       "      <th>frankenstorm</th>\n",
       "      <td>5.531179</td>\n",
       "      <td>2.524414e+02</td>\n",
       "      <td>5.531179</td>\n",
       "    </tr>\n",
       "    <tr>\n",
       "      <th>hurricanesandy</th>\n",
       "      <td>5.043203</td>\n",
       "      <td>1.549656e+02</td>\n",
       "      <td>5.043203</td>\n",
       "    </tr>\n",
       "    <tr>\n",
       "      <th>power</th>\n",
       "      <td>4.786271</td>\n",
       "      <td>1.198536e+02</td>\n",
       "      <td>4.786271</td>\n",
       "    </tr>\n",
       "    <tr>\n",
       "      <th>prayer</th>\n",
       "      <td>4.774480</td>\n",
       "      <td>1.184487e+02</td>\n",
       "      <td>4.774480</td>\n",
       "    </tr>\n",
       "  </tbody>\n",
       "</table>\n",
       "</div>"
      ],
      "text/plain": [
       "                  weights          odds  abs_weights\n",
       "hurricane       16.979624  2.366774e+07    16.979624\n",
       "flood           16.471080  1.423309e+07    16.471080\n",
       "yycflood        11.552700  1.040576e+05    11.552700\n",
       "sandy           10.151130  2.562005e+04    10.151130\n",
       "abflood          9.690261  1.615945e+04     9.690261\n",
       "tornado          9.343182  1.142070e+04     9.343182\n",
       "flooding         7.333959  1.531433e+03     7.333959\n",
       "oklahoma         7.309085  1.493810e+03     7.309085\n",
       "storm            6.446426  6.304451e+02     6.446426\n",
       "queensland       6.375990  5.875666e+02     6.375990\n",
       "rt               5.873661  3.555484e+02     5.873661\n",
       "frankenstorm     5.531179  2.524414e+02     5.531179\n",
       "hurricanesandy   5.043203  1.549656e+02     5.043203\n",
       "power            4.786271  1.198536e+02     4.786271\n",
       "prayer           4.774480  1.184487e+02     4.774480"
      ]
     },
     "execution_count": 322,
     "metadata": {},
     "output_type": "execute_result"
    }
   ],
   "source": [
    "gs_lr_coef_tfidf_df.sort_values(ascending=False, by='abs_weights').head(15)"
   ]
  },
  {
   "cell_type": "code",
   "execution_count": 323,
   "metadata": {},
   "outputs": [
    {
     "data": {
      "text/plain": [
       "([0, 1, 2, 3, 4, 5, 6, 7, 8, 9, 10, 11, 12, 13, 14],\n",
       " <a list of 15 Text yticklabel objects>)"
      ]
     },
     "execution_count": 323,
     "metadata": {},
     "output_type": "execute_result"
    },
    {
     "data": {
      "image/png": "[encoded data removed]",
      "text/plain": [
       "<Figure size 1440x720 with 1 Axes>"
      ]
     },
     "metadata": {
      "needs_background": "light"
     },
     "output_type": "display_data"
    }
   ],
   "source": [
    "plt.figure(figsize=(20,10))\n",
    "temp = gs_lr_coef_tfidf_df.sort_values('odds', ascending = False).head(15)\n",
    "plt.barh(temp.index, temp['odds'])\n",
    "plt.title('Top 15 words with positive impact on odds\\n baseline accuracy: 54% vs gs_lr accuracy: 98%', fontsize=35)\n",
    "plt.xlabel('Odds', fontsize=25)\n",
    "plt.ylabel('word', fontsize=25)\n",
    "plt.xticks(fontsize=15)\n",
    "plt.yticks(fontsize=15)"
   ]
  },
  {
   "cell_type": "markdown",
   "metadata": {},
   "source": [
    "### Pickling"
   ]
  },
  {
   "cell_type": "markdown",
   "metadata": {},
   "source": [
    "Pickling out alberta flood logistic regression model:"
   ]
  },
  {
   "cell_type": "code",
   "execution_count": 331,
   "metadata": {},
   "outputs": [],
   "source": [
    "with open('./assets/lr_af.pkl', 'wb+') as f:\n",
    "    pickle.dump(lr_af, f)"
   ]
  },
  {
   "cell_type": "markdown",
   "metadata": {},
   "source": [
    "Pickling out original dataset logistic regression model:"
   ]
  },
  {
   "cell_type": "code",
   "execution_count": 332,
   "metadata": {},
   "outputs": [],
   "source": [
    "with open('./assets/lr.pkl', 'wb+') as f:\n",
    "    pickle.dump(lr, f)"
   ]
  },
  {
   "cell_type": "markdown",
   "metadata": {},
   "source": [
    "## Singular Value Decomposition (02_EDA_and_Cleaning)"
   ]
  }
 ],
 "metadata": {
  "kernelspec": {
   "display_name": "Python 3",
   "language": "python",
   "name": "python3"
  },
  "language_info": {
   "codemirror_mode": {
    "name": "ipython",
    "version": 3
   },
   "file_extension": ".py",
   "mimetype": "text/x-python",
   "name": "python",
   "nbconvert_exporter": "python",
   "pygments_lexer": "ipython3",
   "version": "3.7.0"
  }
 },
 "nbformat": 4,
 "nbformat_minor": 2
}
